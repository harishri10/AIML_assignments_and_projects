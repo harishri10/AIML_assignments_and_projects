{
  "nbformat": 4,
  "nbformat_minor": 0,
  "metadata": {
    "colab": {
      "provenance": [],
      "authorship_tag": "ABX9TyOsbMCTJ4UR7WJjHk8x/Fpo",
      "include_colab_link": true
    },
    "kernelspec": {
      "name": "python3",
      "display_name": "Python 3"
    },
    "language_info": {
      "name": "python"
    }
  },
  "cells": [
    {
      "cell_type": "markdown",
      "metadata": {
        "id": "view-in-github",
        "colab_type": "text"
      },
      "source": [
        "<a href=\"https://colab.research.google.com/github/harishri10/AIML_assignments_and_projects/blob/main/2505047_task1.ipynb\" target=\"_parent\"><img src=\"https://colab.research.google.com/assets/colab-badge.svg\" alt=\"Open In Colab\"/></a>"
      ]
    },
    {
      "cell_type": "code",
      "source": [
        "import numpy as np\n",
        "print(np.__version__)"
      ],
      "metadata": {
        "colab": {
          "base_uri": "https://localhost:8080/"
        },
        "id": "lg9zad4xtqgE",
        "outputId": "7921c4d5-7ee2-49d0-8d53-60a60184a4f5"
      },
      "execution_count": null,
      "outputs": [
        {
          "output_type": "stream",
          "name": "stdout",
          "text": [
            "2.0.2\n"
          ]
        }
      ]
    },
    {
      "cell_type": "markdown",
      "source": [
        "**LISTS**"
      ],
      "metadata": {
        "id": "HZB-w2S1tvdv"
      }
    },
    {
      "cell_type": "code",
      "source": [
        "import numpy as np\n",
        "list1=[1,2,3,4,5]\n",
        "list2=[10,9,8,7,6]\n",
        "print(\"list 1: \",list1)\n",
        "print(\"list 2: \",list2)"
      ],
      "metadata": {
        "colab": {
          "base_uri": "https://localhost:8080/"
        },
        "id": "yR4J5R74t4_6",
        "outputId": "014ed949-606a-40cc-fc0a-84d3e2c8c0fb"
      },
      "execution_count": null,
      "outputs": [
        {
          "output_type": "stream",
          "name": "stdout",
          "text": [
            "list 1:  [1, 2, 3, 4, 5]\n",
            "list 2:  [10, 9, 8, 7, 6]\n"
          ]
        }
      ]
    },
    {
      "cell_type": "markdown",
      "source": [
        "**BASIC OPERATIONS ON LISTS**"
      ],
      "metadata": {
        "id": "VMT5Ul2Gt8Vk"
      }
    },
    {
      "cell_type": "code",
      "source": [
        "import numpy as np\n",
        "list1=[1,2,3,4,5]\n",
        "list2=[10,9,8,7,6]\n",
        "print('sum= ',list1+list2)"
      ],
      "metadata": {
        "colab": {
          "base_uri": "https://localhost:8080/"
        },
        "id": "94CCrLsfuBIu",
        "outputId": "381fca9c-278d-4dd3-abe3-bc0e50052202"
      },
      "execution_count": null,
      "outputs": [
        {
          "output_type": "stream",
          "name": "stdout",
          "text": [
            "sum=  [1, 2, 3, 4, 5, 10, 9, 8, 7, 6]\n"
          ]
        }
      ]
    },
    {
      "cell_type": "code",
      "source": [
        "import numpy as np\n",
        "list1=[1,2,3,4,5]\n",
        "list2=[10,9,8,7,6]\n",
        "print('difference= ',list2-list1)\n",
        "print('product= ',list1*list2)\n",
        "print('division= ',list2/list1)"
      ],
      "metadata": {
        "colab": {
          "base_uri": "https://localhost:8080/",
          "height": 349
        },
        "id": "h8S-luvhuEYo",
        "outputId": "c3c71c5b-ab4c-4d88-af3d-3258bebaa2ea"
      },
      "execution_count": null,
      "outputs": [
        {
          "output_type": "error",
          "ename": "TypeError",
          "evalue": "unsupported operand type(s) for -: 'list' and 'list'",
          "traceback": [
            "\u001b[0;31m---------------------------------------------------------------------------\u001b[0m",
            "\u001b[0;31mTypeError\u001b[0m                                 Traceback (most recent call last)",
            "\u001b[0;32m<ipython-input-4-9ef3a95552c9>\u001b[0m in \u001b[0;36m<cell line: 0>\u001b[0;34m()\u001b[0m\n\u001b[1;32m      2\u001b[0m \u001b[0mlist1\u001b[0m\u001b[0;34m=\u001b[0m\u001b[0;34m[\u001b[0m\u001b[0;36m1\u001b[0m\u001b[0;34m,\u001b[0m\u001b[0;36m2\u001b[0m\u001b[0;34m,\u001b[0m\u001b[0;36m3\u001b[0m\u001b[0;34m,\u001b[0m\u001b[0;36m4\u001b[0m\u001b[0;34m,\u001b[0m\u001b[0;36m5\u001b[0m\u001b[0;34m]\u001b[0m\u001b[0;34m\u001b[0m\u001b[0;34m\u001b[0m\u001b[0m\n\u001b[1;32m      3\u001b[0m \u001b[0mlist2\u001b[0m\u001b[0;34m=\u001b[0m\u001b[0;34m[\u001b[0m\u001b[0;36m10\u001b[0m\u001b[0;34m,\u001b[0m\u001b[0;36m9\u001b[0m\u001b[0;34m,\u001b[0m\u001b[0;36m8\u001b[0m\u001b[0;34m,\u001b[0m\u001b[0;36m7\u001b[0m\u001b[0;34m,\u001b[0m\u001b[0;36m6\u001b[0m\u001b[0;34m]\u001b[0m\u001b[0;34m\u001b[0m\u001b[0;34m\u001b[0m\u001b[0m\n\u001b[0;32m----> 4\u001b[0;31m \u001b[0mprint\u001b[0m\u001b[0;34m(\u001b[0m\u001b[0;34m'difference= '\u001b[0m\u001b[0;34m,\u001b[0m\u001b[0mlist2\u001b[0m\u001b[0;34m-\u001b[0m\u001b[0mlist1\u001b[0m\u001b[0;34m)\u001b[0m\u001b[0;34m\u001b[0m\u001b[0;34m\u001b[0m\u001b[0m\n\u001b[0m\u001b[1;32m      5\u001b[0m \u001b[0mprint\u001b[0m\u001b[0;34m(\u001b[0m\u001b[0;34m'product= '\u001b[0m\u001b[0;34m,\u001b[0m\u001b[0mlist1\u001b[0m\u001b[0;34m*\u001b[0m\u001b[0mlist2\u001b[0m\u001b[0;34m)\u001b[0m\u001b[0;34m\u001b[0m\u001b[0;34m\u001b[0m\u001b[0m\n\u001b[1;32m      6\u001b[0m \u001b[0mprint\u001b[0m\u001b[0;34m(\u001b[0m\u001b[0;34m'division= '\u001b[0m\u001b[0;34m,\u001b[0m\u001b[0mlist2\u001b[0m\u001b[0;34m/\u001b[0m\u001b[0mlist1\u001b[0m\u001b[0;34m)\u001b[0m\u001b[0;34m\u001b[0m\u001b[0;34m\u001b[0m\u001b[0m\n",
            "\u001b[0;31mTypeError\u001b[0m: unsupported operand type(s) for -: 'list' and 'list'"
          ]
        }
      ]
    },
    {
      "cell_type": "markdown",
      "source": [
        "You can't subtract one list from another like you would with numbers. Python lists don't understand what it means to subtract elements directly. You need to perform the subtraction element-wise, which means you need to subtract corresponding elements from each list.\n",
        "\n",
        "Subtraction: To perform element-wise subtraction, we import numpy and use the np.subtract function, which takes two arrays (or lists that will be converted to arrays) as arguments. This will subtract corresponding elements and return a new array.\n",
        "\n",
        "Multiplication and Division: Lists do not natively support these operations. However, list comprehension was applied for element-wise multiplication and division."
      ],
      "metadata": {
        "id": "wBuhlnsxuH8S"
      }
    },
    {
      "cell_type": "markdown",
      "source": [
        "**CONVERTING LISTS INTO ARRAYS**"
      ],
      "metadata": {
        "id": "Va3Ita6xuPiW"
      }
    },
    {
      "cell_type": "code",
      "source": [
        "import numpy as np\n",
        "list1=[1,2,3,4,5]\n",
        "list2=[5,4,3,2,1]\n",
        "a1=np.array(list1)\n",
        "a2=np.array(list2)\n",
        "print(\"array1: \",a1)\n",
        "print(\"array2: \",a2)"
      ],
      "metadata": {
        "colab": {
          "base_uri": "https://localhost:8080/"
        },
        "id": "u7Z3Z2XnuUH7",
        "outputId": "48830436-47a3-4233-f42b-212d753d666e"
      },
      "execution_count": null,
      "outputs": [
        {
          "output_type": "stream",
          "name": "stdout",
          "text": [
            "array1:  [1 2 3 4 5]\n",
            "array2:  [5 4 3 2 1]\n"
          ]
        }
      ]
    },
    {
      "cell_type": "markdown",
      "source": [
        "**CONVERTING LISTS INTO ARRAYS AND PERFORMING BASIC OPERATIONS**"
      ],
      "metadata": {
        "id": "8gxacg0kubeX"
      }
    },
    {
      "cell_type": "code",
      "source": [
        "import numpy as np\n",
        "list1=[1,2,3,4,5]\n",
        "list2=[5,4,3,2,1]\n",
        "a1=np.array(list1)\n",
        "a2=np.array(list2)\n",
        "print('sum= ',a1+a2)\n",
        "print('difference= ',a2-a1)\n",
        "print('product= ',a1*a2)\n",
        "print('division= ',a2/a1)"
      ],
      "metadata": {
        "colab": {
          "base_uri": "https://localhost:8080/"
        },
        "id": "O_QPPOcaucgd",
        "outputId": "885161c6-f5a0-4f22-e1f6-3eae2710d618"
      },
      "execution_count": null,
      "outputs": [
        {
          "output_type": "stream",
          "name": "stdout",
          "text": [
            "sum=  [6 6 6 6 6]\n",
            "difference=  [ 4  2  0 -2 -4]\n",
            "product=  [5 8 9 8 5]\n",
            "division=  [5.  2.  1.  0.5 0.2]\n"
          ]
        }
      ]
    },
    {
      "cell_type": "markdown",
      "source": [
        "**BASIC FUNCTIONS ON ARRAYS**"
      ],
      "metadata": {
        "id": "urWZ6SGwuhkf"
      }
    },
    {
      "cell_type": "code",
      "source": [
        "import numpy as np\n",
        "arr = np.array( [[1,2,3],\n",
        "                 [4,2,5]] )\n",
        "print(\"aray is of type: \",type(arr))\n",
        "print(\"no. of dimension: \",arr.ndim)\n",
        "print(\"shape of the array: \",arr.shape)\n",
        "print(\"size of the array: \",arr.size)\n",
        "print(\"data type of array: \",arr.dtype)\n",
        "print(\"the array is: \",arr)"
      ],
      "metadata": {
        "id": "Eu03hCUluk5v"
      },
      "execution_count": null,
      "outputs": []
    },
    {
      "cell_type": "code",
      "source": [
        "import numpy as np\n",
        "a=np.arange(10,1,-2)\n",
        "print(a)\n",
        "newarr=a[np.array([3,1,2])]\n",
        "print(newarr)"
      ],
      "metadata": {
        "colab": {
          "base_uri": "https://localhost:8080/"
        },
        "id": "1T0dG0GCuuM6",
        "outputId": "7669540b-4655-44e4-faa5-23dd6cfc9b89"
      },
      "execution_count": null,
      "outputs": [
        {
          "output_type": "stream",
          "name": "stdout",
          "text": [
            "[10  8  6  4  2]\n",
            "[4 8 6]\n"
          ]
        }
      ]
    },
    {
      "cell_type": "code",
      "source": [
        "import numpy as np\n",
        "x=np.array([1,2,3,4,5,6,7,8,9])\n",
        "arr1=x[np.array([1,3,-3])]\n",
        "print('array1: ',arr1)\n",
        "arr2=x[np.array([-6,0,1])]\n",
        "print('array2: ',arr2)"
      ],
      "metadata": {
        "colab": {
          "base_uri": "https://localhost:8080/"
        },
        "id": "vi-e96Lhuzcn",
        "outputId": "f42b9c1b-f779-4335-a390-b93a99e7d2d2"
      },
      "execution_count": null,
      "outputs": [
        {
          "output_type": "stream",
          "name": "stdout",
          "text": [
            "array1:  [2 4 7]\n",
            "array2:  [4 1 2]\n"
          ]
        }
      ]
    },
    {
      "cell_type": "code",
      "source": [
        "import numpy as np\n",
        "a=np.arange(20)\n",
        "print(a)\n",
        "print(a[-8:17:1])\n",
        "print(a[10: ])"
      ],
      "metadata": {
        "colab": {
          "base_uri": "https://localhost:8080/"
        },
        "id": "K07nAoEeu3Dj",
        "outputId": "4aa723fc-8e2e-4623-a630-e629269d8d2e"
      },
      "execution_count": null,
      "outputs": [
        {
          "output_type": "stream",
          "name": "stdout",
          "text": [
            "[ 0  1  2  3  4  5  6  7  8  9 10 11 12 13 14 15 16 17 18 19]\n",
            "[12 13 14 15 16]\n",
            "[10 11 12 13 14 15 16 17 18 19]\n"
          ]
        }
      ]
    },
    {
      "cell_type": "code",
      "source": [
        "\n",
        "import numpy as np\n",
        "array = np.arange(10, 51)\n",
        "even_numbers = array[array % 2 == 0]\n",
        "print(\"Original Array:\",array)\n",
        "print(\"\\nEven Numbers:\",even_numbers)"
      ],
      "metadata": {
        "colab": {
          "base_uri": "https://localhost:8080/"
        },
        "id": "KbgMpeqsvZZO",
        "outputId": "08e4fdc7-f610-4789-fff4-a98c085a775c"
      },
      "execution_count": null,
      "outputs": [
        {
          "output_type": "stream",
          "name": "stdout",
          "text": [
            "Original Array: [10 11 12 13 14 15 16 17 18 19 20 21 22 23 24 25 26 27 28 29 30 31 32 33\n",
            " 34 35 36 37 38 39 40 41 42 43 44 45 46 47 48 49 50]\n",
            "\n",
            "Even Numbers: [10 12 14 16 18 20 22 24 26 28 30 32 34 36 38 40 42 44 46 48 50]\n"
          ]
        }
      ]
    },
    {
      "cell_type": "markdown",
      "source": [
        "**RESHAPING ARRAY**"
      ],
      "metadata": {
        "id": "jRlr-PpLu_AT"
      }
    },
    {
      "cell_type": "code",
      "source": [
        "import numpy as np\n",
        "array_1d = np.arange(1, 21)\n",
        "print(\"One-dimensional Array:\")\n",
        "print(array_1d)\n",
        "array_2d = array_1d.reshape(4,5)\n",
        "print(\"\\nReshaped 4X5 Matrix:\")\n",
        "print(array_2d)"
      ],
      "metadata": {
        "colab": {
          "base_uri": "https://localhost:8080/"
        },
        "id": "zFGuPFu_vBPe",
        "outputId": "0fed91ef-d99b-4d6a-bbf6-46f9a453217b"
      },
      "execution_count": null,
      "outputs": [
        {
          "output_type": "stream",
          "name": "stdout",
          "text": [
            "One-dimensional Array:\n",
            "[ 1  2  3  4  5  6  7  8  9 10 11 12 13 14 15 16 17 18 19 20]\n",
            "\n",
            "Reshaped 4X5 Matrix:\n",
            "[[ 1  2  3  4  5]\n",
            " [ 6  7  8  9 10]\n",
            " [11 12 13 14 15]\n",
            " [16 17 18 19 20]]\n"
          ]
        }
      ]
    },
    {
      "cell_type": "code",
      "source": [
        "import numpy as np\n",
        "a=np.array([[1,2,4],[5,8,7]],dtype='float')\n",
        "print(\"Array created using passed list:\\n\",a)\n",
        "b=np.array((1,3,2))\n",
        "print(\"Array created using passed tuple:\\n\",b)"
      ],
      "metadata": {
        "colab": {
          "base_uri": "https://localhost:8080/"
        },
        "id": "1Eaj0UWBvH5O",
        "outputId": "58b94cba-0b8d-48df-f55a-d90579c2bd26"
      },
      "execution_count": null,
      "outputs": [
        {
          "output_type": "stream",
          "name": "stdout",
          "text": [
            "Array created using passed list:\n",
            " [[1. 2. 4.]\n",
            " [5. 8. 7.]]\n",
            "Array created using passed tuple:\n",
            " [1 3 2]\n"
          ]
        }
      ]
    },
    {
      "cell_type": "markdown",
      "source": [
        "**ZEROES**"
      ],
      "metadata": {
        "id": "JJN5WFeYvNOo"
      }
    },
    {
      "cell_type": "code",
      "source": [
        "import numpy as np\n",
        "arr_1d = np.zeros(5)\n",
        "print('1D array with zeros:', arr_1d)\n",
        "arr_2d = np.zeros((2, 3))\n",
        "#2*3 array\n",
        "print('2D array with zeros:\\n', arr_2d)\n",
        "arr_3d = np.zeros((2, 3, 4 ))\n",
        "#2*3*4 array\n",
        "print('3D array with zeros:\\n', arr_3d)"
      ],
      "metadata": {
        "colab": {
          "base_uri": "https://localhost:8080/"
        },
        "id": "DbKBeUDdvP2M",
        "outputId": "37dc8f93-d513-4cb1-d54c-c08eeb7ed2af"
      },
      "execution_count": null,
      "outputs": [
        {
          "output_type": "stream",
          "name": "stdout",
          "text": [
            "1D array with zeros: [0. 0. 0. 0. 0.]\n",
            "2D array with zeros:\n",
            " [[0. 0. 0.]\n",
            " [0. 0. 0.]]\n",
            "3D array with zeros:\n",
            " [[[0. 0. 0. 0.]\n",
            "  [0. 0. 0. 0.]\n",
            "  [0. 0. 0. 0.]]\n",
            "\n",
            " [[0. 0. 0. 0.]\n",
            "  [0. 0. 0. 0.]\n",
            "  [0. 0. 0. 0.]]]\n"
          ]
        }
      ]
    },
    {
      "cell_type": "markdown",
      "source": [
        "**DATA TYPES**"
      ],
      "metadata": {
        "id": "xEAcHhCUvic_"
      }
    },
    {
      "cell_type": "code",
      "source": [
        "import numpy as np\n",
        "a=9067587\n",
        "print(type(a))\n",
        "b=str(a)\n",
        "print(type(b))\n",
        "c='hi'\n",
        "print(type(c))\n",
        "d=78.87\n",
        "print(type(d))\n",
        "e=0\n",
        "print(type(e))\n",
        "f=True\n",
        "print(type(f))\n",
        "g=None\n",
        "print(type(g))"
      ],
      "metadata": {
        "colab": {
          "base_uri": "https://localhost:8080/"
        },
        "id": "EgJke79Uvkfa",
        "outputId": "0102e167-81a0-4648-9169-d8dad609098d"
      },
      "execution_count": null,
      "outputs": [
        {
          "output_type": "stream",
          "name": "stdout",
          "text": [
            "<class 'int'>\n",
            "<class 'str'>\n",
            "<class 'str'>\n",
            "<class 'float'>\n",
            "<class 'int'>\n",
            "<class 'bool'>\n",
            "<class 'NoneType'>\n"
          ]
        }
      ]
    },
    {
      "cell_type": "markdown",
      "source": [
        "**CREATING A 11D ARRAY**"
      ],
      "metadata": {
        "id": "dG2FmDHCvtZu"
      }
    },
    {
      "cell_type": "code",
      "source": [
        "import numpy as np\n",
        "arr=np.array([1,2,3,4],ndmin=11)\n",
        "print(arr)\n",
        "print('number of dimensions: ',arr.ndim)"
      ],
      "metadata": {
        "colab": {
          "base_uri": "https://localhost:8080/"
        },
        "id": "aXxF3uaAvuIc",
        "outputId": "8a2caa61-c76f-4230-b2b7-52f9f54a9be6"
      },
      "execution_count": null,
      "outputs": [
        {
          "output_type": "stream",
          "name": "stdout",
          "text": [
            "[[[[[[[[[[[1 2 3 4]]]]]]]]]]]\n",
            "number of dimensions:  11\n"
          ]
        }
      ]
    },
    {
      "cell_type": "markdown",
      "source": [
        "**TO LEARN ABOUT OUTER PRODUCT**"
      ],
      "metadata": {
        "id": "MJJeQOKFMYaK"
      }
    },
    {
      "cell_type": "markdown",
      "source": [
        "Think of the Outer Product as \"Multiplying a Column by a Row\"\n",
        "\n",
        "Suppose you have two 1D vectors:\n",
        "\n",
        "-> u = [1, 2, 3] → think of this as a column vector (vertical)\n",
        "\n",
        "-> v = [4, 5] → think of this as a row vector (horizontal)\n",
        "\n",
        "The outer product creates a matrix where:\n",
        "\n",
        "-> Every element of u is multiplied by every element of v\n",
        "\n",
        "-> The result is a table (2D array) of all combinations of u[i] * v[j]\n",
        "\n",
        "\n",
        "Let's analyse using a python code"
      ],
      "metadata": {
        "id": "7Oh8HMWqM0Zf"
      }
    },
    {
      "cell_type": "code",
      "source": [
        "import numpy as np\n",
        "\n",
        "u = np.array([1, 2, 3])\n",
        "v = np.array([4, 5])\n",
        "\n",
        "outer = np.outer(u, v)\n",
        "print(outer)\n"
      ],
      "metadata": {
        "colab": {
          "base_uri": "https://localhost:8080/"
        },
        "id": "39Q_mHtwMlf6",
        "outputId": "3bc72000-2343-4949-9ef1-9662910d306f"
      },
      "execution_count": null,
      "outputs": [
        {
          "output_type": "stream",
          "name": "stdout",
          "text": [
            "[[ 4  5]\n",
            " [ 8 10]\n",
            " [12 15]]\n"
          ]
        }
      ]
    },
    {
      "cell_type": "markdown",
      "source": [
        "Here, each row of the resulting matrix is the vector v multiplied by the corresponding element in u.\n",
        "\n",
        "This operation is distinct from the dot product, which produces a scalar. The outer product yields a matrix, capturing all pairwise multiplications between elements of the two vectors.\n",
        "\n",
        "\n",
        "Why It’s Useful:\n",
        "\n",
        "-> Creates rank-1 matrices (building blocks of larger matrices)\n",
        "\n",
        "->\n",
        "Forms the basis for tensor products, machine learning weights, quantum states, etc."
      ],
      "metadata": {
        "id": "nuWKOUYoO7BG"
      }
    },
    {
      "cell_type": "markdown",
      "source": [
        "**TO CREATE A METHOD TO PERFORM: ADDITION, SUBTRACTION, MULTIPLICATION, DOT PRODUCT, MATRIX MULTIPLICATION, DETERMINANT, INVERSE OF TWO MATRICES**"
      ],
      "metadata": {
        "id": "eB2vQk1zPGQS"
      }
    },
    {
      "cell_type": "code",
      "source": [
        "import numpy as np\n",
        "\n",
        "# Predefined matrices\n",
        "A = np.array([[2, 4], [1, 3]])\n",
        "B = np.array([[5, 2], [0, 1]])\n",
        "\n",
        "print(\"Matrix A:\\n\", A)\n",
        "print(\"Matrix B:\\n\", B)\n",
        "\n",
        "# Addition\n",
        "try:\n",
        "    print(\"\\nAddition:\\n\", A + B)\n",
        "except:\n",
        "    print(\"\\nAddition not possible.\")\n",
        "\n",
        "# Subtraction\n",
        "try:\n",
        "    print(\"\\nSubtraction:\\n\", A - B)\n",
        "except:\n",
        "    print(\"\\nSubtraction not possible.\")\n",
        "\n",
        "# Element-wise Multiplication\n",
        "try:\n",
        "    print(\"\\nElement-wise Multiplication:\\n\", A * B)\n",
        "except:\n",
        "    print(\"\\nElement-wise multiplication not possible.\")\n",
        "\n",
        "# Dot Product\n",
        "try:\n",
        "    print(\"\\nDot Product:\\n\", np.dot(A, B))\n",
        "except:\n",
        "    print(\"\\nDot product not possible.\")\n",
        "\n",
        "# Matrix Multiplication\n",
        "try:\n",
        "    print(\"\\nMatrix Multiplication (A @ B):\\n\", A @ B)\n",
        "except:\n",
        "    print(\"\\nMatrix multiplication not possible.\")\n",
        "\n",
        "# Determinant of A\n",
        "if A.shape[0] == A.shape[1]:\n",
        "    try:\n",
        "        print(\"\\nDeterminant of A:\", round(np.linalg.det(A), 2))\n",
        "    except:\n",
        "        print(\"\\nDeterminant could not be calculated.\")\n",
        "else:\n",
        "    print(\"\\nMatrix A is not square. Cannot compute determinant.\")\n",
        "\n",
        "# Inverse of A\n",
        "if A.shape[0] == A.shape[1]:\n",
        "    try:\n",
        "        print(\"\\nInverse of A:\\n\", np.linalg.inv(A))\n",
        "    except:\n",
        "        print(\"\\nMatrix A is singular (non-invertible).\")\n",
        "else:\n",
        "    print(\"\\nMatrix A is not square. Cannot compute inverse.\")"
      ],
      "metadata": {
        "colab": {
          "base_uri": "https://localhost:8080/"
        },
        "id": "UZqHEh-gP5xX",
        "outputId": "48b2d3fe-3682-4566-cd3a-df45126569c5"
      },
      "execution_count": null,
      "outputs": [
        {
          "output_type": "stream",
          "name": "stdout",
          "text": [
            "Matrix A:\n",
            " [[2 4]\n",
            " [1 3]]\n",
            "Matrix B:\n",
            " [[5 2]\n",
            " [0 1]]\n",
            "\n",
            "Addition:\n",
            " [[7 6]\n",
            " [1 4]]\n",
            "\n",
            "Subtraction:\n",
            " [[-3  2]\n",
            " [ 1  2]]\n",
            "\n",
            "Element-wise Multiplication:\n",
            " [[10  8]\n",
            " [ 0  3]]\n",
            "\n",
            "Dot Product:\n",
            " [[10  8]\n",
            " [ 5  5]]\n",
            "\n",
            "Matrix Multiplication (A @ B):\n",
            " [[10  8]\n",
            " [ 5  5]]\n",
            "\n",
            "Determinant of A: 2.0\n",
            "\n",
            "Inverse of A:\n",
            " [[ 1.5 -2. ]\n",
            " [-0.5  1. ]]\n"
          ]
        }
      ]
    }
  ]
}