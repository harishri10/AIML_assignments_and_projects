{
  "nbformat": 4,
  "nbformat_minor": 0,
  "metadata": {
    "colab": {
      "provenance": [],
      "authorship_tag": "ABX9TyPlmMH+vovjSstn5AeMLinQ",
      "include_colab_link": true
    },
    "kernelspec": {
      "name": "python3",
      "display_name": "Python 3"
    },
    "language_info": {
      "name": "python"
    }
  },
  "cells": [
    {
      "cell_type": "markdown",
      "metadata": {
        "id": "view-in-github",
        "colab_type": "text"
      },
      "source": [
        "<a href=\"https://colab.research.google.com/github/harishri10/AIML_assignments_and_projects/blob/main/2505047_task1.ipynb\" target=\"_parent\"><img src=\"https://colab.research.google.com/assets/colab-badge.svg\" alt=\"Open In Colab\"/></a>"
      ]
    },
    {
      "cell_type": "markdown",
      "source": [
        "**TO LEARN ABOUT OUTER PRODUCT**"
      ],
      "metadata": {
        "id": "MJJeQOKFMYaK"
      }
    },
    {
      "cell_type": "markdown",
      "source": [
        "Think of the Outer Product as \"Multiplying a Column by a Row\"\n",
        "\n",
        "Suppose you have two 1D vectors:\n",
        "\n",
        "-> u = [1, 2, 3] → think of this as a column vector (vertical)\n",
        "\n",
        "-> v = [4, 5] → think of this as a row vector (horizontal)\n",
        "\n",
        "The outer product creates a matrix where:\n",
        "\n",
        "-> Every element of u is multiplied by every element of v\n",
        "\n",
        "-> The result is a table (2D array) of all combinations of u[i] * v[j]\n",
        "\n",
        "\n",
        "Let's analyse using a python code"
      ],
      "metadata": {
        "id": "7Oh8HMWqM0Zf"
      }
    },
    {
      "cell_type": "code",
      "source": [
        "import numpy as np\n",
        "\n",
        "u = np.array([1, 2, 3])\n",
        "v = np.array([4, 5])\n",
        "\n",
        "outer = np.outer(u, v)\n",
        "print(outer)\n"
      ],
      "metadata": {
        "colab": {
          "base_uri": "https://localhost:8080/"
        },
        "id": "39Q_mHtwMlf6",
        "outputId": "3bc72000-2343-4949-9ef1-9662910d306f"
      },
      "execution_count": 1,
      "outputs": [
        {
          "output_type": "stream",
          "name": "stdout",
          "text": [
            "[[ 4  5]\n",
            " [ 8 10]\n",
            " [12 15]]\n"
          ]
        }
      ]
    },
    {
      "cell_type": "markdown",
      "source": [
        "Here, each row of the resulting matrix is the vector v multiplied by the corresponding element in u.\n",
        "\n",
        "This operation is distinct from the dot product, which produces a scalar. The outer product yields a matrix, capturing all pairwise multiplications between elements of the two vectors.\n",
        "\n",
        "\n",
        "Why It’s Useful:\n",
        "\n",
        "-> Creates rank-1 matrices (building blocks of larger matrices)\n",
        "\n",
        "->\n",
        "Forms the basis for tensor products, machine learning weights, quantum states, etc.\n",
        "\n"
      ],
      "metadata": {
        "id": "nuWKOUYoO7BG"
      }
    },
    {
      "cell_type": "markdown",
      "source": [
        "**TO CREATE A METHOD TO PERFORM: ADDITION, SUBTRACTION, MULTIPLICATION, DOT PRODUCT, MATRIX MULTIPLICATION, DETERMINANT, INVERSE OF TWO MATRICES**"
      ],
      "metadata": {
        "id": "eB2vQk1zPGQS"
      }
    },
    {
      "cell_type": "code",
      "source": [
        "import numpy as np\n",
        "\n",
        "# Predefined matrices\n",
        "A = np.array([[2, 4], [1, 3]])\n",
        "B = np.array([[5, 2], [0, 1]])\n",
        "\n",
        "print(\"Matrix A:\\n\", A)\n",
        "print(\"Matrix B:\\n\", B)\n",
        "\n",
        "# Addition\n",
        "try:\n",
        "    print(\"\\nAddition:\\n\", A + B)\n",
        "except:\n",
        "    print(\"\\nAddition not possible.\")\n",
        "\n",
        "# Subtraction\n",
        "try:\n",
        "    print(\"\\nSubtraction:\\n\", A - B)\n",
        "except:\n",
        "    print(\"\\nSubtraction not possible.\")\n",
        "\n",
        "# Element-wise Multiplication\n",
        "try:\n",
        "    print(\"\\nElement-wise Multiplication:\\n\", A * B)\n",
        "except:\n",
        "    print(\"\\nElement-wise multiplication not possible.\")\n",
        "\n",
        "# Dot Product\n",
        "try:\n",
        "    print(\"\\nDot Product:\\n\", np.dot(A, B))\n",
        "except:\n",
        "    print(\"\\nDot product not possible.\")\n",
        "\n",
        "# Matrix Multiplication\n",
        "try:\n",
        "    print(\"\\nMatrix Multiplication (A @ B):\\n\", A @ B)\n",
        "except:\n",
        "    print(\"\\nMatrix multiplication not possible.\")\n",
        "\n",
        "# Determinant of A\n",
        "if A.shape[0] == A.shape[1]:\n",
        "    try:\n",
        "        print(\"\\nDeterminant of A:\", round(np.linalg.det(A), 2))\n",
        "    except:\n",
        "        print(\"\\nDeterminant could not be calculated.\")\n",
        "else:\n",
        "    print(\"\\nMatrix A is not square. Cannot compute determinant.\")\n",
        "\n",
        "# Inverse of A\n",
        "if A.shape[0] == A.shape[1]:\n",
        "    try:\n",
        "        print(\"\\nInverse of A:\\n\", np.linalg.inv(A))\n",
        "    except:\n",
        "        print(\"\\nMatrix A is singular (non-invertible).\")\n",
        "else:\n",
        "    print(\"\\nMatrix A is not square. Cannot compute inverse.\")\n"
      ],
      "metadata": {
        "colab": {
          "base_uri": "https://localhost:8080/"
        },
        "id": "UZqHEh-gP5xX",
        "outputId": "48b2d3fe-3682-4566-cd3a-df45126569c5"
      },
      "execution_count": 2,
      "outputs": [
        {
          "output_type": "stream",
          "name": "stdout",
          "text": [
            "Matrix A:\n",
            " [[2 4]\n",
            " [1 3]]\n",
            "Matrix B:\n",
            " [[5 2]\n",
            " [0 1]]\n",
            "\n",
            "Addition:\n",
            " [[7 6]\n",
            " [1 4]]\n",
            "\n",
            "Subtraction:\n",
            " [[-3  2]\n",
            " [ 1  2]]\n",
            "\n",
            "Element-wise Multiplication:\n",
            " [[10  8]\n",
            " [ 0  3]]\n",
            "\n",
            "Dot Product:\n",
            " [[10  8]\n",
            " [ 5  5]]\n",
            "\n",
            "Matrix Multiplication (A @ B):\n",
            " [[10  8]\n",
            " [ 5  5]]\n",
            "\n",
            "Determinant of A: 2.0\n",
            "\n",
            "Inverse of A:\n",
            " [[ 1.5 -2. ]\n",
            " [-0.5  1. ]]\n"
          ]
        }
      ]
    }
  ]
}